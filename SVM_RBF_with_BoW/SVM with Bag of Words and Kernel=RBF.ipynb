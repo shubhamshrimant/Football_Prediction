{
 "cells": [
  {
   "cell_type": "code",
   "execution_count": 222,
   "metadata": {},
   "outputs": [],
   "source": [
    "import numpy as np\n",
    "import matplotlib.pyplot as plt\n",
    "import pandas as pd"
   ]
  },
  {
   "cell_type": "code",
   "execution_count": 223,
   "metadata": {},
   "outputs": [],
   "source": [
    "dataset=pd.read_csv('C:\\\\Users\\\\shubh\\\\Downloads\\\\liverpoolfcstats.csv')\n"
   ]
  },
  {
   "cell_type": "code",
   "execution_count": 224,
   "metadata": {},
   "outputs": [],
   "source": [
    "X=dataset.iloc[:,2:4]"
   ]
  },
  {
   "cell_type": "code",
   "execution_count": 225,
   "metadata": {},
   "outputs": [],
   "source": [
    "for a in X:\n",
    "    a.replace(\" \",\"\")"
   ]
  },
  {
   "cell_type": "code",
   "execution_count": 226,
   "metadata": {},
   "outputs": [
    {
     "name": "stdout",
     "output_type": "stream",
     "text": [
      "      HomeTeam        AwayTeam\n",
      "0    Liverpool  Sheffield Weds\n",
      "1          QPR       Liverpool\n",
      "2      Swindon       Liverpool\n",
      "3    Liverpool       Tottenham\n",
      "4    Liverpool           Leeds\n",
      "..         ...             ...\n",
      "953  Liverpool     Bournemouth\n",
      "954  West Brom       Liverpool\n",
      "955  Liverpool           Stoke\n",
      "956    Chelsea       Liverpool\n",
      "957  Liverpool        Brighton\n",
      "\n",
      "[958 rows x 2 columns]\n"
     ]
    }
   ],
   "source": [
    "print(X)"
   ]
  },
  {
   "cell_type": "code",
   "execution_count": 227,
   "metadata": {},
   "outputs": [],
   "source": [
    "y=dataset.iloc[:,6].values"
   ]
  },
  {
   "cell_type": "code",
   "execution_count": 228,
   "metadata": {},
   "outputs": [
    {
     "name": "stdout",
     "output_type": "stream",
     "text": [
      "['H' 'A' 'A' 'A' 'H' 'H' 'A' 'H' 'H' 'D' 'H' 'D' 'H' 'H' 'H' 'H' 'H' 'H'\n",
      " 'D' 'D' 'D' 'D' 'A' 'D' 'A' 'H' 'D' 'H' 'H' 'H' 'H' 'H' 'H' 'H' 'H' 'A'\n",
      " 'D' 'H' 'A' 'A' 'A' 'H' 'A' 'H' 'A' 'D' 'H' 'D' 'H' 'H' 'H' 'H' 'A' 'H'\n",
      " 'H' 'H' 'H' 'D' 'D' 'D' 'D' 'A' 'H' 'A' 'H' 'A' 'D' 'D' 'D' 'A' 'H' 'A'\n",
      " 'H' 'D' 'H' 'A' 'A' 'H' 'H' 'A' 'D' 'H' 'H' 'H' 'H' 'H' 'A' 'H' 'H' 'H'\n",
      " 'H' 'D' 'D' 'A' 'H' 'H' 'A' 'D' 'H' 'D' 'A' 'H' 'H' 'D' 'H' 'D' 'H' 'A'\n",
      " 'D' 'A' 'A' 'H' 'D' 'H' 'H' 'H' 'H' 'H' 'D' 'H' 'D' 'D' 'D' 'H' 'D' 'A'\n",
      " 'H' 'A' 'H' 'A' 'H' 'H' 'H' 'A' 'D' 'D' 'A' 'A' 'H' 'H' 'D' 'D' 'A' 'H'\n",
      " 'D' 'H' 'A' 'H' 'D' 'H' 'H' 'D' 'A' 'A' 'A' 'D' 'A' 'H' 'H' 'D' 'D' 'A'\n",
      " 'D' 'A' 'H' 'D' 'H' 'H' 'H' 'H' 'H' 'D' 'H' 'A' 'A' 'A' 'A' 'H' 'H' 'A'\n",
      " 'H' 'D' 'H' 'D' 'A' 'D' 'D' 'H' 'H' 'D' 'A' 'D' 'H' 'D' 'H' 'H' 'H' 'H'\n",
      " 'A' 'D' 'A' 'H' 'H' 'D' 'H' 'D' 'D' 'H' 'H' 'A' 'A' 'A' 'H' 'H' 'H' 'H'\n",
      " 'A' 'H' 'D' 'H' 'H' 'H' 'H' 'D' 'H' 'H' 'H' 'D' 'D' 'A' 'A' 'A' 'H' 'D'\n",
      " 'H' 'H' 'A' 'A' 'H' 'A' 'H' 'A' 'D' 'A' 'D' 'H' 'D' 'H' 'H' 'H' 'A' 'H'\n",
      " 'H' 'H' 'D' 'H' 'H' 'A' 'D' 'H' 'A' 'D' 'D' 'D' 'A' 'H' 'A' 'H' 'A' 'D'\n",
      " 'H' 'A' 'D' 'H' 'H' 'H' 'D' 'H' 'H' 'D' 'D' 'H' 'A' 'H' 'H' 'H' 'H' 'H'\n",
      " 'H' 'H' 'A' 'A' 'H' 'H' 'H' 'A' 'D' 'D' 'H' 'D' 'H' 'D' 'H' 'D' 'A' 'A'\n",
      " 'H' 'A' 'A' 'H' 'D' 'A' 'H' 'H' 'A' 'A' 'H' 'A' 'D' 'A' 'A' 'H' 'D' 'H'\n",
      " 'A' 'H' 'D' 'H' 'A' 'A' 'D' 'D' 'H' 'D' 'D' 'A' 'H' 'A' 'A' 'D' 'A' 'H'\n",
      " 'A' 'H' 'H' 'A' 'H' 'H' 'H' 'H' 'A' 'H' 'D' 'D' 'D' 'A' 'H' 'A' 'H' 'A'\n",
      " 'H' 'H' 'H' 'D' 'H' 'A' 'H' 'H' 'D' 'D' 'D' 'H' 'D' 'A' 'D' 'A' 'D' 'H'\n",
      " 'H' 'A' 'H' 'H' 'H' 'A' 'H' 'A' 'A' 'H' 'A' 'D' 'D' 'A' 'A' 'H' 'H' 'A'\n",
      " 'H' 'H' 'A' 'A' 'D' 'H' 'D' 'A' 'H' 'D' 'A' 'H' 'H' 'D' 'D' 'D' 'H' 'D'\n",
      " 'H' 'H' 'H' 'D' 'H' 'H' 'A' 'D' 'A' 'H' 'A' 'D' 'D' 'H' 'H' 'H' 'H' 'H'\n",
      " 'H' 'A' 'H' 'D' 'A' 'H' 'H' 'H' 'D' 'H' 'D' 'H' 'A' 'H' 'A' 'A' 'A' 'H'\n",
      " 'A' 'H' 'H' 'H' 'D' 'H' 'H' 'H' 'D' 'A' 'H' 'D' 'H' 'H' 'D' 'H' 'D' 'D'\n",
      " 'D' 'A' 'H' 'H' 'H' 'A' 'H' 'A' 'A' 'H' 'H' 'H' 'A' 'H' 'D' 'H' 'H' 'D'\n",
      " 'H' 'H' 'A' 'H' 'H' 'D' 'H' 'H' 'A' 'H' 'A' 'H' 'A' 'A' 'H' 'A' 'D' 'H'\n",
      " 'H' 'H' 'H' 'H' 'H' 'D' 'H' 'H' 'H' 'H' 'D' 'H' 'D' 'A' 'H' 'A' 'H' 'H'\n",
      " 'A' 'H' 'A' 'H' 'A' 'D' 'H' 'H' 'A' 'D' 'H' 'A' 'D' 'H' 'H' 'H' 'H' 'D'\n",
      " 'A' 'D' 'A' 'H' 'D' 'D' 'A' 'D' 'A' 'D' 'D' 'H' 'A' 'H' 'H' 'A' 'H' 'A'\n",
      " 'D' 'D' 'D' 'D' 'H' 'H' 'D' 'H' 'A' 'H' 'H' 'H' 'H' 'H' 'D' 'H' 'A' 'D'\n",
      " 'H' 'A' 'A' 'H' 'D' 'H' 'D' 'A' 'A' 'H' 'A' 'H' 'H' 'H' 'A' 'D' 'D' 'A'\n",
      " 'D' 'D' 'H' 'A' 'D' 'D' 'D' 'H' 'A' 'D' 'H' 'H' 'A' 'H' 'A' 'H' 'D' 'A'\n",
      " 'H' 'A' 'A' 'H' 'H' 'H' 'A' 'A' 'H' 'A' 'H' 'H' 'H' 'H' 'H' 'D' 'D' 'A'\n",
      " 'D' 'A' 'H' 'H' 'H' 'A' 'D' 'H' 'D' 'H' 'H' 'H' 'D' 'H' 'H' 'H' 'H' 'H'\n",
      " 'D' 'D' 'H' 'A' 'A' 'D' 'D' 'H' 'H' 'D' 'H' 'D' 'A' 'H' 'H' 'A' 'H' 'D'\n",
      " 'H' 'H' 'H' 'H' 'H' 'A' 'H' 'H' 'H' 'D' 'A' 'H' 'H' 'A' 'D' 'H' 'H' 'A'\n",
      " 'H' 'H' 'D' 'H' 'H' 'A' 'A' 'H' 'D' 'A' 'H' 'H' 'H' 'H' 'A' 'D' 'D' 'A'\n",
      " 'D' 'A' 'D' 'H' 'H' 'A' 'D' 'D' 'H' 'H' 'D' 'H' 'A' 'D' 'H' 'A' 'H' 'H'\n",
      " 'H' 'A' 'H' 'D' 'A' 'A' 'A' 'A' 'H' 'H' 'H' 'D' 'A' 'D' 'A' 'A' 'D' 'H'\n",
      " 'D' 'D' 'D' 'H' 'D' 'H' 'H' 'A' 'A' 'H' 'H' 'A' 'H' 'H' 'H' 'D' 'D' 'A'\n",
      " 'H' 'A' 'H' 'H' 'A' 'D' 'D' 'D' 'A' 'D' 'A' 'H' 'H' 'A' 'H' 'D' 'A' 'A'\n",
      " 'H' 'D' 'H' 'H' 'H' 'D' 'H' 'H' 'H' 'A' 'H' 'H' 'H' 'H' 'A' 'D' 'H' 'D'\n",
      " 'H' 'A' 'H' 'A' 'A' 'A' 'H' 'H' 'A' 'H' 'A' 'A' 'D' 'H' 'H' 'H' 'A' 'A'\n",
      " 'H' 'D' 'H' 'A' 'D' 'H' 'A' 'H' 'H' 'A' 'D' 'H' 'D' 'A' 'H' 'D' 'A' 'A'\n",
      " 'H' 'D' 'H' 'A' 'H' 'H' 'A' 'A' 'H' 'H' 'D' 'H' 'H' 'D' 'A' 'H' 'A' 'H'\n",
      " 'D' 'A' 'H' 'D' 'H' 'D' 'D' 'D' 'A' 'A' 'A' 'H' 'H' 'D' 'H' 'H' 'A' 'H'\n",
      " 'D' 'A' 'A' 'H' 'D' 'A' 'H' 'A' 'H' 'D' 'H' 'A' 'H' 'D' 'H' 'H' 'D' 'D'\n",
      " 'A' 'H' 'D' 'H' 'A' 'H' 'A' 'D' 'H' 'A' 'H' 'D' 'H' 'H' 'D' 'A' 'A' 'H'\n",
      " 'H' 'D' 'D' 'A' 'D' 'H' 'H' 'H' 'H' 'H' 'D' 'H' 'D' 'A' 'A' 'A' 'A' 'D'\n",
      " 'A' 'H' 'D' 'H' 'H' 'H' 'D' 'A' 'D' 'D' 'H' 'H' 'A' 'H' 'D' 'A' 'A' 'D'\n",
      " 'D' 'A' 'D' 'H' 'H' 'A' 'H' 'H' 'A' 'D' 'A' 'H' 'H' 'H' 'H' 'A' 'D' 'H'\n",
      " 'D' 'D' 'H' 'H']\n"
     ]
    }
   ],
   "source": [
    "print(y)"
   ]
  },
  {
   "cell_type": "code",
   "execution_count": 229,
   "metadata": {},
   "outputs": [],
   "source": [
    "X['Match']=X['HomeTeam']+X['AwayTeam']\n"
   ]
  },
  {
   "cell_type": "code",
   "execution_count": 230,
   "metadata": {},
   "outputs": [
    {
     "name": "stdout",
     "output_type": "stream",
     "text": [
      "      HomeTeam        AwayTeam                    Match\n",
      "0    Liverpool  Sheffield Weds  LiverpoolSheffield Weds\n",
      "1          QPR       Liverpool             QPRLiverpool\n",
      "2      Swindon       Liverpool         SwindonLiverpool\n",
      "3    Liverpool       Tottenham       LiverpoolTottenham\n",
      "4    Liverpool           Leeds           LiverpoolLeeds\n",
      "..         ...             ...                      ...\n",
      "953  Liverpool     Bournemouth     LiverpoolBournemouth\n",
      "954  West Brom       Liverpool       West BromLiverpool\n",
      "955  Liverpool           Stoke           LiverpoolStoke\n",
      "956    Chelsea       Liverpool         ChelseaLiverpool\n",
      "957  Liverpool        Brighton        LiverpoolBrighton\n",
      "\n",
      "[958 rows x 3 columns]\n"
     ]
    }
   ],
   "source": [
    "print(X)"
   ]
  },
  {
   "cell_type": "code",
   "execution_count": 231,
   "metadata": {},
   "outputs": [
    {
     "name": "stderr",
     "output_type": "stream",
     "text": [
      "[nltk_data] Downloading package stopwords to\n",
      "[nltk_data]     C:\\Users\\shubh\\AppData\\Roaming\\nltk_data...\n",
      "[nltk_data]   Package stopwords is already up-to-date!\n"
     ]
    },
    {
     "name": "stdout",
     "output_type": "stream",
     "text": [
      "['liverpoolsheffield wed', 'qprliverpool', 'swindonliverpool', 'liverpooltottenham', 'liverpoolle', 'coventryliverpool', 'liverpoolblackburn', 'evertonliverpool', 'chelsealiverpool', 'liverpoolarsen', 'liverpoololdham', 'man cityliverpool', 'liverpoolsouthampton', 'liverpoolwest ham', 'newcastleliverpool', 'liverpoolaston villa', 'sheffield wedsliverpool', 'liverpoolqpr', 'liverpoolswindon', 'tottenhamliverpool', 'sheffield unitedliverpool', 'liverpoolwimbledon', 'ipswichliverpool', 'liverpoolman unit', 'oldhamliverpool', 'liverpoolman citi', 'norwichliverpool', 'southamptonliverpool', 'leedsliverpool', 'liverpoolcoventri', 'blackburnliverpool', 'liverpooleverton', 'liverpoolchelsea', 'arsenalliverpool', 'man unitedliverpool', 'liverpoolsheffield unit', 'wimbledonliverpool', 'liverpoolipswich', 'liverpoolnewcastl', 'west hamliverpool', 'liverpoolnorwich', 'aston villaliverpool', 'crystal palaceliverpool', 'liverpoolarsen', 'southamptonliverpool', 'liverpoolwest ham', 'man unitedliverpool', 'newcastleliverpool', 'liverpoolsheffield wed', 'liverpoolaston villa', 'blackburnliverpool', 'liverpoolwimbledon', 'ipswichliverpool', 'qprliverpool', 'liverpoolnott forest', 'liverpoolchelsea', 'evertonliverpool', 'liverpooltottenham', 'coventryliverpool', 'liverpoolcryst palac', 'chelsealiverpool', 'leicesterliverpool', 'liverpoolman citi', 'leedsliverpool', 'liverpoolnorwich', 'liverpoolipswich', 'liverpooleverton', 'nott forestliverpool', 'liverpoolqpr', 'sheffield wedsliverpool', 'liverpoolnewcastl', 'liverpoolcoventri', 'liverpoolman unit', 'tottenhamliverpool', 'liverpoolsouthampton', 'liverpoolle', 'arsenalliverpool', 'man cityliverpool', 'liverpoolleicest', 'norwichliverpool', 'wimbledonliverpool', 'aston villaliverpool', 'west hamliverpool', 'liverpoolblackburn', 'liverpoolsheffield wed', 'leedsliverpool', 'tottenhamliverpool', 'liverpoolqpr', 'wimbledonliverpool', 'liverpoolblackburn', 'liverpoolbolton', 'man unitedliverpool', 'liverpoolcoventri', 'southamptonliverpool', 'liverpoolman citi', 'newcastleliverpool', 'liverpooleverton', 'west hamliverpool', 'middlesbroughliverpool', 'liverpoolsouthampton', 'boltonliverpool', 'liverpoolman unit', 'liverpoolarsen', 'chelsealiverpool', 'liverpoolnott forest', 'sheffield wedsliverpool', 'liverpoolle', 'aston villaliverpool', 'liverpooltottenham', 'qprliverpool', 'blackburnliverpool', 'liverpoolaston villa', 'liverpoolwimbledon', 'liverpoolchelsea', 'nott forestliverpool', 'liverpoolnewcastl', 'coventryliverpool', 'liverpoolwest ham', 'evertonliverpool', 'liverpoolmiddlesbrough', 'arsenalliverpool', 'man cityliverpool', 'middlesbroughliverpool', 'liverpoolarsen', 'liverpoolsunderland', 'coventryliverpool', 'liverpoolsouthampton', 'leicesterliverpool', 'liverpoolchelsea', 'west hamliverpool', 'man unitedliverpool', 'liverpoolderbi', 'blackburnliverpool', 'leedsliverpool', 'liverpooleverton', 'liverpoolwimbledon', 'tottenhamliverpool', 'liverpoolsheffield wed', 'liverpoolmiddlesbrough', 'liverpoolnott forest', 'newcastleliverpool', 'liverpoolleicest', 'southamptonliverpool', 'chelsealiverpool', 'liverpoolwest ham', 'liverpoolaston villa', 'derbyliverpool', 'liverpoolle', 'liverpoolblackburn', 'aston villaliverpool', 'liverpoolnewcastl', 'nott forestliverpool', 'arsenalliverpool', 'liverpoolcoventri', 'sunderlandliverpool', 'evertonliverpool', 'liverpoolman unit', 'liverpooltottenham', 'wimbledonliverpool', 'sheffield wedsliverpool', 'wimbledonliverpool', 'liverpoolleicest', 'blackburnliverpool', 'leedsliverpool', 'liverpoolsheffield wed', 'southamptonliverpool', 'liverpoolaston villa', 'west hamliverpool', 'liverpoolchelsea', 'evertonliverpool', 'liverpoolderbi', 'boltonliverpool', 'liverpooltottenham', 'liverpoolbarnsley', 'arsenalliverpool', 'liverpoolman unit', 'crystal palaceliverpool', 'liverpoolcoventri', 'liverpoolle', 'newcastleliverpool', 'liverpoolwimbledon', 'leicesterliverpool', 'liverpoolnewcastl', 'liverpoolblackburn', 'liverpoolsouthampton', 'sheffield wedsliverpool', 'liverpooleverton', 'aston villaliverpool', 'liverpoolbolton', 'tottenhamliverpool', 'barnsleyliverpool', 'man unitedliverpool', 'liverpoolcryst palac', 'coventryliverpool', 'chelsealiverpool', 'liverpoolwest ham', 'liverpoolarsen', 'derbyliverpool', 'southamptonliverpool', 'liverpoolarsen', 'newcastleliverpool', 'liverpoolcoventri', 'west hamliverpool', 'liverpoolcharlton', 'man unitedliverpool', 'liverpoolchelsea', 'evertonliverpool', 'liverpoolnott forest', 'leicesterliverpool', 'liverpoolderbi', 'liverpoolle', 'aston villaliverpool', 'liverpoolblackburn', 'tottenhamliverpool', 'wimbledonliverpool', 'liverpoolsheffield wed', 'middlesbroughliverpool', 'liverpoolnewcastl', 'arsenalliverpool', 'liverpoolsouthampton', 'coventryliverpool', 'liverpoolmiddlesbrough', 'charltonliverpool', 'liverpoolwest ham', 'chelsealiverpool', 'derbyliverpool', 'liverpooleverton', 'nott forestliverpool', 'leedsliverpool', 'liverpoolaston villa', 'liverpoolleicest', 'blackburnliverpool', 'liverpooltottenham', 'liverpoolman unit', 'sheffield wedsliverpool', 'liverpoolwimbledon', 'sheffield wedsliverpool', 'liverpoolwatford', 'middlesbroughliverpool', 'leedsliverpool', 'liverpoolarsen', 'liverpoolman unit', 'leicesterliverpool', 'liverpooleverton', 'aston villaliverpool', 'liverpoolchelsea', 'southamptonliverpool', 'liverpoolwest ham', 'liverpoolbradford', 'liverpoolderbi', 'sunderlandliverpool', 'west hamliverpool', 'liverpoolsheffield wed', 'liverpoolcoventri', 'newcastleliverpool', 'liverpoolwimbledon', 'tottenhamliverpool', 'watfordliverpool', 'liverpoolmiddlesbrough', 'liverpoolle', 'arsenalliverpool', 'man unitedliverpool', 'liverpoolsunderland', 'liverpoolaston villa', 'derbyliverpool', 'liverpoolnewcastl', 'coventryliverpool', 'liverpooltottenham', 'wimbledonliverpool', 'evertonliverpool', 'chelsealiverpool', 'liverpoolleicest', 'liverpoolsouthampton', 'bradfordliverpool', 'liverpoolbradford', 'arsenalliverpool', 'southamptonliverpool', 'liverpoolaston villa', 'liverpoolman citi', 'west hamliverpool', 'liverpoolsunderland', 'chelsealiverpool', 'derbyliverpool', 'liverpoolleicest', 'liverpooleverton', 'leedsliverpool', 'liverpoolcoventri', 'tottenhamliverpool', 'newcastleliverpool', 'liverpoolcharlton', 'liverpoolipswich', 'man unitedliverpool', 'liverpoolarsen', 'middlesbroughliverpool', 'liverpoolsouthampton', 'aston villaliverpool', 'liverpoolmiddlesbrough', 'man cityliverpool', 'liverpoolwest ham', 'sunderlandliverpool', 'leicesterliverpool', 'liverpoolderbi', 'liverpoolman unit', 'ipswichliverpool', 'liverpoolle', 'evertonliverpool', 'liverpooltottenham', 'coventryliverpool', 'bradfordliverpool', 'liverpoolnewcastl', 'liverpoolchelsea', 'charltonliverpool', 'liverpoolwest ham', 'boltonliverpool', 'liverpoolaston villa', 'evertonliverpool', 'liverpooltottenham', 'newcastleliverpool', 'liverpoolle', 'leicesterliverpool', 'charltonliverpool', 'liverpoolman unit', 'blackburnliverpool', 'liverpoolsunderland', 'derbyliverpool', 'liverpoolmiddlesbrough', 'liverpoolfulham', 'chelsealiverpool', 'liverpoolarsen', 'aston villaliverpool', 'west hamliverpool', 'liverpoolbolton', 'southamptonliverpool', 'arsenalliverpool', 'liverpoolsouthampton', 'man unitedliverpool', 'liverpoolleicest', 'leedsliverpool', 'ipswichliverpool', 'liverpooleverton', 'fulhamliverpool', 'liverpoolnewcastl', 'middlesbroughliverpool', 'liverpoolchelsea', 'liverpoolcharlton', 'sunderlandliverpool', 'liverpoolderbi', 'tottenhamliverpool', 'liverpoolblackburn', 'liverpoolipswich', 'aston villaliverpool', 'liverpoolsouthampton', 'blackburnliverpool', 'liverpoolnewcastl', 'liverpoolbirmingham', 'boltonliverpool', 'liverpoolwest brom', 'man cityliverpool', 'liverpoolchelsea', 'leedsliverpool', 'liverpooltottenham', 'liverpoolwest ham', 'middlesboroliverpool', 'liverpoolsunderland', 'fulhamliverpool', 'liverpoolman unit', 'charltonliverpool', 'sunderlandliverpool', 'liverpooleverton', 'liverpoolblackburn', 'arsenalliverpool', 'newcastleliverpool', 'liverpoolaston villa', 'southamptonliverpool', 'liverpoolarsen', 'west hamliverpool', 'liverpoolmiddlesboro', 'birminghamliverpool', 'liverpoolbolton', 'tottenhamliverpool', 'liverpoolle', 'man unitedliverpool', 'liverpoolfulham', 'evertonliverpool', 'liverpoolcharlton', 'west bromliverpool', 'liverpoolman citi', 'chelsealiverpool', 'liverpoolchelsea', 'aston villaliverpool', 'liverpooltottenham', 'evertonliverpool', 'blackburnliverpool', 'liverpoolleicest', 'charltonliverpool', 'liverpoolarsen', 'portsmouthliverpool', 'liverpoolle', 'fulhamliverpool', 'liverpoolman unit', 'middlesbroughliverpool', 'liverpoolbirmingham', 'newcastleliverpool', 'liverpoolsouthampton', 'liverpoolbolton', 'man cityliverpool', 'chelsealiverpool', 'liverpoolaston villa', 'tottenhamliverpool', 'wolvesliverpool', 'liverpooleverton', 'boltonliverpool', 'liverpoolman citi', 'leedsliverpool', 'southamptonliverpool', 'liverpoolportsmouth', 'liverpoolwolv', 'leicesterliverpool', 'liverpoolblackburn', 'arsenalliverpool', 'liverpoolcharlton', 'liverpoolfulham', 'man unitedliverpool', 'liverpoolmiddlesbrough', 'birminghamliverpool', 'liverpoolnewcastl', 'tottenhamliverpool', 'liverpoolman citi', 'boltonliverpool', 'liverpoolwest brom', 'man unitedliverpool', 'liverpoolnorwich', 'chelsealiverpool', 'fulhamliverpool', 'liverpoolcharlton', 'blackburnliverpool', 'liverpoolbirmingham', 'liverpoolcryst palac', 'middlesbroughliverpool', 'liverpoolarsen', 'aston villaliverpool', 'evertonliverpool', 'liverpoolportsmouth', 'liverpoolnewcastl', 'west bromliverpool', 'liverpoolsouthampton', 'liverpoolchelsea', 'norwichliverpool', 'liverpoolman unit', 'southamptonliverpool', 'charltonliverpool', 'liverpoolfulham', 'birminghamliverpool', 'newcastleliverpool', 'liverpoolblackburn', 'liverpooleverton', 'liverpoolbolton', 'man cityliverpool', 'liverpooltottenham', 'portsmouthliverpool', 'crystal palaceliverpool', 'liverpoolmiddlesbrough', 'arsenalliverpool', 'liverpoolaston villa', 'middlesbroughliverpool', 'liverpoolsunderland', 'tottenhamliverpool', 'liverpoolman unit', 'birminghamliverpool', 'liverpoolchelsea', 'liverpoolblackburn', 'fulhamliverpool', 'liverpoolwest ham', 'aston villaliverpool', 'liverpoolportsmouth', 'man cityliverpool', 'sunderlandliverpool', 'liverpoolwigan', 'liverpoolmiddlesbrough', 'liverpoolnewcastl', 'evertonliverpool', 'liverpoolwest brom', 'boltonliverpool', 'liverpooltottenham', 'man unitedliverpool', 'liverpoolbirmingham', 'chelsealiverpool', 'charltonliverpool', 'wiganliverpool', 'liverpoolarsen', 'liverpoolman citi', 'liverpoolcharlton', 'arsenalliverpool', 'liverpoolfulham', 'newcastleliverpool', 'liverpooleverton', 'west bromliverpool', 'liverpoolbolton', 'blackburnliverpool', 'west hamliverpool', 'liverpoolaston villa', 'portsmouthliverpool', 'sheffield unitedliverpool', 'liverpoolwest ham', 'evertonliverpool', 'chelsealiverpool', 'liverpoolnewcastl', 'liverpooltottenham', 'boltonliverpool', 'liverpoolblackburn', 'man unitedliverpool', 'liverpoolaston villa', 'liverpoolread', 'arsenalliverpool', 'middlesbroughliverpool', 'liverpoolman citi', 'liverpoolportsmouth', 'wiganliverpool', 'liverpoolfulham', 'charltonliverpool', 'liverpoolwatford', 'blackburnliverpool', 'tottenhamliverpool', 'liverpoolbolton', 'watfordliverpool', 'liverpoolchelsea', 'west hamliverpool', 'liverpooleverton', 'newcastleliverpool', 'liverpoolsheffield unit', 'liverpoolman unit', 'aston villaliverpool', 'liverpoolarsen', 'readingliverpool', 'man cityliverpool', 'liverpoolmiddlesbrough', 'liverpoolwigan', 'portsmouthliverpool', 'fulhamliverpool', 'liverpoolcharlton', 'aston villaliverpool', 'liverpoolchelsea', 'sunderlandliverpool', 'liverpoolderbi', 'portsmouthliverpool', 'liverpoolbirmingham', 'wiganliverpool', 'liverpooltottenham', 'evertonliverpool', 'liverpoolarsen', 'blackburnliverpool', 'liverpoolfulham', 'newcastleliverpool', 'liverpoolbolton', 'readingliverpool', 'liverpoolman unit', 'liverpoolportsmouth', 'derbyliverpool', 'man cityliverpool', 'liverpoolwigan', 'middlesbroughliverpool', 'liverpoolaston villa', 'west hamliverpool', 'liverpoolsunderland', 'chelsealiverpool', 'liverpoolmiddlesbrough', 'boltonliverpool', 'liverpoolwest ham', 'liverpoolnewcastl', 'liverpoolread', 'man unitedliverpool', 'liverpooleverton', 'arsenalliverpool', 'liverpoolblackburn', 'fulhamliverpool', 'birminghamliverpool', 'liverpoolman citi', 'tottenhamliverpool', 'sunderlandliverpool', 'liverpoolmiddlesbrough', 'aston villaliverpool', 'liverpoolman unit', 'liverpoolstok', 'evertonliverpool', 'man cityliverpool', 'liverpoolwigan', 'chelsealiverpool', 'liverpoolportsmouth', 'tottenhamliverpool', 'liverpoolwest brom', 'boltonliverpool', 'liverpoolfulham', 'liverpoolwest ham', 'blackburnliverpool', 'liverpoolhul', 'arsenalliverpool', 'liverpoolbolton', 'newcastleliverpool', 'stokeliverpool', 'liverpooleverton', 'wiganliverpool', 'liverpoolchelsea', 'portsmouthliverpool', 'liverpoolman citi', 'middlesbroughliverpool', 'liverpoolsunderland', 'man unitedliverpool', 'liverpoolaston villa', 'fulhamliverpool', 'liverpoolblackburn', 'liverpoolarsen', 'hullliverpool', 'liverpoolnewcastl', 'west hamliverpool', 'west bromliverpool', 'liverpooltottenham', 'tottenhamliverpool', 'liverpoolstok', 'liverpoolaston villa', 'boltonliverpool', 'liverpoolburnley', 'west hamliverpool', 'liverpoolhul', 'chelsealiverpool', 'sunderlandliverpool', 'liverpoolman unit', 'fulhamliverpool', 'liverpoolbirmingham', 'liverpoolman citi', 'evertonliverpool', 'blackburnliverpool', 'liverpoolarsen', 'liverpoolwigan', 'portsmouthliverpool', 'liverpoolwolv', 'aston villaliverpool', 'stokeliverpool', 'liverpooltottenham', 'wolvesliverpool', 'liverpoolbolton', 'liverpooleverton', 'arsenalliverpool', 'man cityliverpool', 'liverpoolblackburn', 'wiganliverpool', 'liverpoolportsmouth', 'man unitedliverpool', 'liverpoolsunderland', 'birminghamliverpool', 'liverpoolfulham', 'liverpoolwest ham', 'burnleyliverpool', 'liverpoolchelsea', 'hullliverpool', 'liverpoolarsen', 'man cityliverpool', 'liverpoolwest brom', 'birminghamliverpool', 'man unitedliverpool', 'liverpoolsunderland', 'liverpoolblackpool', 'evertonliverpool', 'liverpoolblackburn', 'boltonliverpool', 'liverpoolchelsea', 'wiganliverpool', 'stokeliverpool', 'liverpoolwest ham', 'tottenhamliverpool', 'liverpoolaston villa', 'newcastleliverpool', 'liverpoolwolv', 'liverpoolbolton', 'blackburnliverpool', 'blackpoolliverpool', 'liverpooleverton', 'wolvesliverpool', 'liverpoolfulham', 'liverpoolstok', 'chelsealiverpool', 'liverpoolwigan', 'west hamliverpool', 'liverpoolman unit', 'sunderlandliverpool', 'west bromliverpool', 'liverpoolman citi', 'arsenalliverpool', 'liverpoolbirmingham', 'liverpoolnewcastl', 'fulhamliverpool', 'liverpooltottenham', 'aston villaliverpool', 'liverpoolsunderland', 'arsenalliverpool', 'liverpoolbolton', 'stokeliverpool', 'tottenhamliverpool', 'liverpoolwolv', 'evertonliverpool', 'liverpoolman unit', 'liverpoolnorwich', 'west bromliverpool', 'liverpoolswansea', 'chelsealiverpool', 'liverpoolman citi', 'fulhamliverpool', 'liverpoolqpr', 'aston villaliverpool', 'wiganliverpool', 'liverpoolblackburn', 'liverpoolnewcastl', 'man cityliverpool', 'liverpoolstok', 'boltonliverpool', 'wolvesliverpool', 'liverpooltottenham', 'man unitedliverpool', 'liverpoolarsen', 'sunderlandliverpool', 'liverpooleverton', 'qprliverpool', 'liverpoolwigan', 'newcastleliverpool', 'liverpoolaston villa', 'blackburnliverpool', 'liverpoolwest brom', 'norwichliverpool', 'liverpoolfulham', 'liverpoolchelsea', 'swansealiverpool', 'west bromliverpool', 'liverpoolman citi', 'liverpoolarsen', 'sunderlandliverpool', 'liverpoolman unit', 'norwichliverpool', 'liverpoolstok', 'liverpoolread', 'evertonliverpool', 'liverpoolnewcastl', 'chelsealiverpool', 'liverpoolwigan', 'swansealiverpool', 'tottenhamliverpool', 'liverpoolsouthampton', 'west hamliverpool', 'liverpoolaston villa', 'liverpoolfulham', 'stokeliverpool', 'qprliverpool', 'liverpoolsunderland', 'man unitedliverpool', 'liverpoolnorwich', 'arsenalliverpool', 'man cityliverpool', 'liverpoolwest brom', 'liverpoolswansea', 'wiganliverpool', 'liverpooltottenham', 'southamptonliverpool', 'aston villaliverpool', 'liverpoolwest ham', 'readingliverpool', 'liverpoolchelsea', 'newcastleliverpool', 'liverpooleverton', 'fulhamliverpool', 'liverpoolqpr', 'liverpoolstok', 'aston villaliverpool', 'liverpoolman unit', 'swansealiverpool', 'liverpoolsouthampton', 'sunderlandliverpool', 'liverpoolcryst palac', 'newcastleliverpool', 'liverpoolwest brom', 'arsenalliverpool', 'liverpoolfulham', 'evertonliverpool', 'hullliverpool', 'liverpoolnorwich', 'liverpoolwest ham', 'tottenhamliverpool', 'liverpoolcardiff', 'man cityliverpool', 'chelsealiverpool', 'liverpoolhul', 'stokeliverpool', 'liverpoolaston villa', 'liverpooleverton', 'west bromliverpool', 'liverpoolarsen', 'fulhamliverpool', 'liverpoolswansea', 'southamptonliverpool', 'man unitedliverpool', 'cardiffliverpool', 'liverpoolsunderland', 'liverpooltottenham', 'west hamliverpool', 'liverpoolman citi', 'norwichliverpool', 'liverpoolchelsea', 'crystal palaceliverpool', 'liverpoolnewcastl', 'liverpoolsouthampton', 'man cityliverpool', 'tottenhamliverpool', 'liverpoolaston villa', 'west hamliverpool', 'liverpooleverton', 'liverpoolwest brom', 'qprliverpool', 'liverpoolhul', 'newcastleliverpool', 'liverpoolchelsea', 'crystal palaceliverpool', 'liverpoolstok', 'leicesterliverpool', 'liverpoolsunderland', 'man unitedliverpool', 'liverpoolarsen', 'burnleyliverpool', 'liverpoolswansea', 'liverpoolleicest', 'sunderlandliverpool', 'aston villaliverpool', 'liverpoolwest ham', 'evertonliverpool', 'liverpooltottenham', 'southamptonliverpool', 'liverpoolman citi', 'liverpoolburnley', 'swansealiverpool', 'liverpoolman unit', 'arsenalliverpool', 'liverpoolnewcastl', 'west bromliverpool', 'hullliverpool', 'liverpoolqpr', 'chelsealiverpool', 'liverpoolcryst palac', 'stokeliverpool', 'stokeliverpool', 'liverpoolbournemouth', 'arsenalliverpool', 'liverpoolwest ham', 'man unitedliverpool', 'liverpoolnorwich', 'liverpoolaston villa', 'evertonliverpool', 'tottenhamliverpool', 'liverpoolsouthampton', 'chelsealiverpool', 'liverpoolcryst palac', 'man cityliverpool', 'liverpoolswansea', 'newcastleliverpool', 'liverpoolwest brom', 'watfordliverpool', 'liverpoolleicest', 'sunderlandliverpool', 'west hamliverpool', 'liverpoolarsen', 'liverpoolman unit', 'norwichliverpool', 'leicesterliverpool', 'liverpoolsunderland', 'aston villaliverpool', 'liverpoolman citi', 'crystal palaceliverpool', 'southamptonliverpool', 'liverpooltottenham', 'liverpoolstok', 'bournemouthliverpool', 'liverpooleverton', 'liverpoolnewcastl', 'swansealiverpool', 'liverpoolwatford', 'liverpoolchelsea', 'west bromliverpool', 'arsenalliverpool', 'burnleyliverpool', 'tottenhamliverpool', 'liverpoolleicest', 'chelsealiverpool', 'liverpoolhul', 'swansealiverpool', 'liverpoolman unit', 'liverpoolwest brom', 'crystal palaceliverpool', 'liverpoolwatford', 'southamptonliverpool', 'liverpoolsunderland', 'bournemouthliverpool', 'liverpoolwest ham', 'middlesbroughliverpool', 'evertonliverpool', 'liverpoolstok', 'liverpoolman citi', 'sunderlandliverpool', 'man unitedliverpool', 'liverpoolswansea', 'liverpoolchelsea', 'hullliverpool', 'liverpooltottenham', 'leicesterliverpool', 'liverpoolarsen', 'liverpoolburnley', 'man cityliverpool', 'liverpooleverton', 'liverpoolbournemouth', 'stokeliverpool', 'west bromliverpool', 'liverpoolcryst palac', 'watfordliverpool', 'liverpoolsouthampton', 'west hamliverpool', 'liverpoolmiddlesbrough', 'watfordliverpool', 'liverpoolcryst palac', 'liverpoolarsen', 'man cityliverpool', 'liverpoolburnley', 'leicesterliverpool', 'newcastleliverpool', 'liverpoolman unit', 'tottenhamliverpool', 'liverpoolhuddersfield', 'west hamliverpool', 'liverpoolsouthampton', 'liverpoolchelsea', 'stokeliverpool', 'brightonliverpool', 'liverpooleverton', 'liverpoolwest brom', 'bournemouthliverpool', 'arsenalliverpool', 'liverpoolswansea', 'liverpoolleicest', 'burnleyliverpool', 'liverpoolman citi', 'swansealiverpool', 'huddersfieldliverpool', 'liverpooltottenham', 'southamptonliverpool', 'liverpoolwest ham', 'liverpoolnewcastl', 'man unitedliverpool', 'liverpoolwatford', 'crystal palaceliverpool', 'evertonliverpool', 'liverpoolbournemouth', 'west bromliverpool', 'liverpoolstok', 'chelsealiverpool', 'liverpoolbrighton']\n"
     ]
    }
   ],
   "source": [
    "import re\n",
    "import nltk\n",
    "nltk.download('stopwords')\n",
    "from nltk.corpus import stopwords\n",
    "from nltk.stem.porter import PorterStemmer\n",
    "corpus = []\n",
    "for i in range(0, 958):\n",
    "  review = re.sub('[^a-zA-Z]', ' ', X['Match'][i])\n",
    "  review = review.lower()\n",
    "  review = review.split()\n",
    "  ps = PorterStemmer()\n",
    "  all_stopwords = stopwords.words('english')\n",
    "  #all_stopwords.remove('not')\n",
    "  review = [ps.stem(word) for word in review if not word in set(all_stopwords)]\n",
    "  review = ' '.join(review)\n",
    "  corpus.append(review)\n",
    "print(corpus)"
   ]
  },
  {
   "cell_type": "code",
   "execution_count": 232,
   "metadata": {},
   "outputs": [],
   "source": [
    "X2=X.iloc[:,2]"
   ]
  },
  {
   "cell_type": "code",
   "execution_count": 233,
   "metadata": {
    "scrolled": true
   },
   "outputs": [
    {
     "name": "stdout",
     "output_type": "stream",
     "text": [
      "0      LiverpoolSheffield Weds\n",
      "1                 QPRLiverpool\n",
      "2             SwindonLiverpool\n",
      "3           LiverpoolTottenham\n",
      "4               LiverpoolLeeds\n",
      "                ...           \n",
      "953       LiverpoolBournemouth\n",
      "954         West BromLiverpool\n",
      "955             LiverpoolStoke\n",
      "956           ChelseaLiverpool\n",
      "957          LiverpoolBrighton\n",
      "Name: Match, Length: 958, dtype: object\n"
     ]
    }
   ],
   "source": [
    "print(X2)"
   ]
  },
  {
   "cell_type": "code",
   "execution_count": 234,
   "metadata": {},
   "outputs": [
    {
     "name": "stdout",
     "output_type": "stream",
     "text": [
      "0      LiverpoolSheffield Weds\n",
      "1                 QPRLiverpool\n",
      "2             SwindonLiverpool\n",
      "3           LiverpoolTottenham\n",
      "4               LiverpoolLeeds\n",
      "                ...           \n",
      "953       LiverpoolBournemouth\n",
      "954         West BromLiverpool\n",
      "955             LiverpoolStoke\n",
      "956           ChelseaLiverpool\n",
      "957          LiverpoolBrighton\n",
      "Name: Match, Length: 958, dtype: object\n"
     ]
    }
   ],
   "source": [
    "for match in X2:\n",
    "    match.replace(\" \",\"\")\n",
    "print(X2)"
   ]
  },
  {
   "cell_type": "code",
   "execution_count": 235,
   "metadata": {},
   "outputs": [],
   "source": [
    "from sklearn.feature_extraction.text import CountVectorizer\n",
    "cv = CountVectorizer(max_features = 1500)\n",
    "X2 = cv.fit_transform(corpus).toarray()\n"
   ]
  },
  {
   "cell_type": "code",
   "execution_count": 236,
   "metadata": {},
   "outputs": [],
   "source": [
    "# from sklearn.compose import ColumnTransformer\n",
    "# from sklearn.preprocessing import OneHotEncoder\n",
    "# ct = ColumnTransformer(transformers=[('encoder', OneHotEncoder(), [0])], remainder='passthrough')\n",
    "# X2 = X2.values.reshape(len(y), 1)\n",
    "# X2 = np.array(ct.fit_transform(X2))\n",
    "# print(X2)"
   ]
  },
  {
   "cell_type": "code",
   "execution_count": 237,
   "metadata": {
    "scrolled": true
   },
   "outputs": [],
   "source": [
    "# from sklearn.compose import ColumnTransformer\n",
    "# from sklearn.preprocessing import OneHotEncoder\n",
    "# ct = ColumnTransformer(transformers=[('encoder', OneHotEncoder(), [0])], remainder='passthrough')\n",
    "# X2 = y.reshape(len(X2),1)\n",
    "# X2 = np.array(ct.fit_transform(X2))\n",
    "# print(X2)\n"
   ]
  },
  {
   "cell_type": "code",
   "execution_count": 238,
   "metadata": {},
   "outputs": [],
   "source": [
    "# trainDfDummies = pd.get_dummies(X2, columns=['Match'])\n"
   ]
  },
  {
   "cell_type": "code",
   "execution_count": 239,
   "metadata": {},
   "outputs": [],
   "source": [
    "# print(trainDfDummies)"
   ]
  },
  {
   "cell_type": "code",
   "execution_count": 240,
   "metadata": {},
   "outputs": [
    {
     "name": "stdout",
     "output_type": "stream",
     "text": [
      "[2 0 0 0 2 2 0 2 2 1 2 1 2 2 2 2 2 2 1 1 1 1 0 1 0 2 1 2 2 2 2 2 2 2 2 0 1\n",
      " 2 0 0 0 2 0 2 0 1 2 1 2 2 2 2 0 2 2 2 2 1 1 1 1 0 2 0 2 0 1 1 1 0 2 0 2 1\n",
      " 2 0 0 2 2 0 1 2 2 2 2 2 0 2 2 2 2 1 1 0 2 2 0 1 2 1 0 2 2 1 2 1 2 0 1 0 0\n",
      " 2 1 2 2 2 2 2 1 2 1 1 1 2 1 0 2 0 2 0 2 2 2 0 1 1 0 0 2 2 1 1 0 2 1 2 0 2\n",
      " 1 2 2 1 0 0 0 1 0 2 2 1 1 0 1 0 2 1 2 2 2 2 2 1 2 0 0 0 0 2 2 0 2 1 2 1 0\n",
      " 1 1 2 2 1 0 1 2 1 2 2 2 2 0 1 0 2 2 1 2 1 1 2 2 0 0 0 2 2 2 2 0 2 1 2 2 2\n",
      " 2 1 2 2 2 1 1 0 0 0 2 1 2 2 0 0 2 0 2 0 1 0 1 2 1 2 2 2 0 2 2 2 1 2 2 0 1\n",
      " 2 0 1 1 1 0 2 0 2 0 1 2 0 1 2 2 2 1 2 2 1 1 2 0 2 2 2 2 2 2 2 0 0 2 2 2 0\n",
      " 1 1 2 1 2 1 2 1 0 0 2 0 0 2 1 0 2 2 0 0 2 0 1 0 0 2 1 2 0 2 1 2 0 0 1 1 2\n",
      " 1 1 0 2 0 0 1 0 2 0 2 2 0 2 2 2 2 0 2 1 1 1 0 2 0 2 0 2 2 2 1 2 0 2 2 1 1\n",
      " 1 2 1 0 1 0 1 2 2 0 2 2 2 0 2 0 0 2 0 1 1 0 0 2 2 0 2 2 0 0 1 2 1 0 2 1 0\n",
      " 2 2 1 1 1 2 1 2 2 2 1 2 2 0 1 0 2 0 1 1 2 2 2 2 2 2 0 2 1 0 2 2 2 1 2 1 2\n",
      " 0 2 0 0 0 2 0 2 2 2 1 2 2 2 1 0 2 1 2 2 1 2 1 1 1 0 2 2 2 0 2 0 0 2 2 2 0\n",
      " 2 1 2 2 1 2 2 0 2 2 1 2 2 0 2 0 2 0 0 2 0 1 2 2 2 2 2 2 1 2 2 2 2 1 2 1 0\n",
      " 2 0 2 2 0 2 0 2 0 1 2 2 0 1 2 0 1 2 2 2 2 1 0 1 0 2 1 1 0 1 0 1 1 2 0 2 2\n",
      " 0 2 0 1 1 1 1 2 2 1 2 0 2 2 2 2 2 1 2 0 1 2 0 0 2 1 2 1 0 0 2 0 2 2 2 0 1\n",
      " 1 0 1 1 2 0 1 1 1 2 0 1 2 2 0 2 0 2 1 0 2 0 0 2 2 2 0 0 2 0 2 2 2 2 2 1 1\n",
      " 0 1 0 2 2 2 0 1 2 1 2 2 2 1 2 2 2 2 2 1 1 2 0 0 1 1 2 2 1 2 1 0 2 2 0 2 1\n",
      " 2 2 2 2 2 0 2 2 2 1 0 2 2 0 1 2 2 0 2 2 1 2 2 0 0 2 1 0 2 2 2 2 0 1 1 0 1\n",
      " 0 1 2 2 0 1 1 2 2 1 2 0 1 2 0 2 2 2 0 2 1 0 0 0 0 2 2 2 1 0 1 0 0 1 2 1 1\n",
      " 1 2 1 2 2 0 0 2 2 0 2 2 2 1 1 0 2 0 2 2 0 1 1 1 0 1 0 2 2 0 2 1 0 0 2 1 2\n",
      " 2 2 1 2 2 2 0 2 2 2 2 0 1 2 1 2 0 2 0 0 0 2 2 0 2 0 0 1 2 2 2 0 0 2 1 2 0\n",
      " 1 2 0 2 2 0 1 2 1 0 2 1 0 0 2 1 2 0 2 2 0 0 2 2 1 2 2 1 0 2 0 2 1 0 2 1 2\n",
      " 1 1 1 0 0 0 2 2 1 2 2 0 2 1 0 0 2 1 0 2 0 2 1 2 0 2 1 2 2 1 1 0 2 1 2 0 2\n",
      " 0 1 2 0 2 1 2 2 1 0 0 2 2 1 1 0 1 2 2 2 2 2 1 2 1 0 0 0 0 1 0 2 1 2 2 2 1\n",
      " 0 1 1 2 2 0 2 1 0 0 1 1 0 1 2 2 0 2 2 0 1 0 2 2 2 2 0 1 2 1 1 2 2]\n"
     ]
    }
   ],
   "source": [
    "from sklearn.preprocessing import LabelEncoder\n",
    "le = LabelEncoder()\n",
    "y = le.fit_transform(y)\n",
    "print(y)\n",
    "y = y.reshape(len(y),1)"
   ]
  },
  {
   "cell_type": "code",
   "execution_count": 241,
   "metadata": {},
   "outputs": [],
   "source": [
    "from sklearn.model_selection import train_test_split\n",
    "X_train, X_test, y_train, y_test = train_test_split(X2, y, test_size = 1/3, random_state = 0)"
   ]
  },
  {
   "cell_type": "code",
   "execution_count": 242,
   "metadata": {},
   "outputs": [],
   "source": [
    "# from sklearn.preprocessing import StandardScaler\n",
    "# sc = StandardScaler()\n",
    "# X_train = sc.fit_transform(X_train)\n",
    "# X_test = sc.transform(X_test)\n",
    "# print(X_train)\n",
    "# print(X_test)"
   ]
  },
  {
   "cell_type": "code",
   "execution_count": 243,
   "metadata": {},
   "outputs": [],
   "source": [
    "# from sklearn.svm import SVC\n",
    "# classifier = SVC(kernel = 'rbf', random_state = 0)\n",
    "# classifier.fit(X_train, y_train)"
   ]
  },
  {
   "cell_type": "code",
   "execution_count": 244,
   "metadata": {},
   "outputs": [],
   "source": [
    "# from sklearn.ensemble import RandomForestClassifier\n",
    "# classifier = RandomForestClassifier(n_estimators = 10, criterion = 'entropy', random_state = 0)\n",
    "# classifier.fit(X_train, y_train)"
   ]
  },
  {
   "cell_type": "code",
   "execution_count": 245,
   "metadata": {},
   "outputs": [],
   "source": [
    "# y_pred = classifier.predict(X_test)\n",
    "# # print(np.concatenate((y_pred.reshape(len(y_pred),1), y_test.reshape(len(y_test),1)),1))\n"
   ]
  },
  {
   "cell_type": "code",
   "execution_count": 246,
   "metadata": {},
   "outputs": [],
   "source": [
    "# from sklearn.metrics import confusion_matrix, accuracy_score\n",
    "# cm = confusion_matrix(y_test, y_pred)\n",
    "# print(cm)\n",
    "# accuracy_score(y_test, y_pred)"
   ]
  },
  {
   "cell_type": "code",
   "execution_count": 247,
   "metadata": {},
   "outputs": [],
   "source": [
    "# I=input('Enter match as LiverpoolLeeds')\n",
    "# from sklearn.preprocessing import LabelEncoder\n",
    "# le = LabelEncoder()\n",
    "# I = le.fit_transform([I])\n",
    "# I = I.reshape(len(I),1)\n",
    "# print(sc.transform(I))\n",
    "# print(classifier.predict(sc.transform(I)))"
   ]
  },
  {
   "cell_type": "code",
   "execution_count": 248,
   "metadata": {},
   "outputs": [],
   "source": [
    "# from sklearn.naive_bayes import GaussianNB\n",
    "# classifier = GaussianNB()\n",
    "# classifier.fit(X_train, y_train)"
   ]
  },
  {
   "cell_type": "code",
   "execution_count": 249,
   "metadata": {},
   "outputs": [],
   "source": [
    "# I=input('Enter match as LiverpoolLeeds')\n",
    "# from sklearn.preprocessing import LabelEncoder\n",
    "# le = LabelEncoder()\n",
    "# I = le.fit_transform([I])\n",
    "# I = I.reshape(len(I),1)\n",
    "# print(sc.transform(I))\n",
    "# print(classifier.predict(sc.transform(I)))"
   ]
  },
  {
   "cell_type": "code",
   "execution_count": 250,
   "metadata": {},
   "outputs": [],
   "source": [
    "# from sklearn.metrics import confusion_matrix, accuracy_score\n",
    "# cm = confusion_matrix(y_test, y_pred)\n",
    "# print(cm)\n",
    "# accuracy_score(y_test, y_pred)"
   ]
  },
  {
   "cell_type": "code",
   "execution_count": 255,
   "metadata": {},
   "outputs": [
    {
     "name": "stderr",
     "output_type": "stream",
     "text": [
      "C:\\Users\\shubh\\anaconda3\\lib\\site-packages\\sklearn\\utils\\validation.py:73: DataConversionWarning: A column-vector y was passed when a 1d array was expected. Please change the shape of y to (n_samples, ), for example using ravel().\n",
      "  return f(**kwargs)\n"
     ]
    },
    {
     "data": {
      "text/plain": [
       "GaussianNB()"
      ]
     },
     "execution_count": 255,
     "metadata": {},
     "output_type": "execute_result"
    }
   ],
   "source": [
    "from sklearn.naive_bayes import GaussianNB\n",
    "classifier = GaussianNB()\n",
    "classifier.fit(X_train, y_train)"
   ]
  },
  {
   "cell_type": "code",
   "execution_count": 252,
   "metadata": {},
   "outputs": [],
   "source": [
    "# I=input('Enter match as LiverpoolLeeds')\n",
    "\n",
    "# #I = I.reshape(len(I),1)\n",
    "# ct = ColumnTransformer(transformers=[('encoder', OneHotEncoder(), [0])], remainder='passthrough')\n",
    "# I = np.array(ct.fit_transform(I))\n",
    "# I = I.values.reshape(len(I),1)\n",
    "# print(I)\n",
    "\n",
    "\n",
    "\n",
    "# #I = I.reshape(len(I),1)\n",
    "# print(sc.transform(I))\n",
    "# print(classifier.predict(sc.transform(I)))"
   ]
  },
  {
   "cell_type": "code",
   "execution_count": 256,
   "metadata": {},
   "outputs": [
    {
     "name": "stdout",
     "output_type": "stream",
     "text": [
      "[[0 2]\n",
      " [0 0]\n",
      " [1 2]\n",
      " [1 0]\n",
      " [1 2]\n",
      " [1 2]\n",
      " [0 2]\n",
      " [1 0]\n",
      " [0 2]\n",
      " [0 1]\n",
      " [1 2]\n",
      " [0 2]\n",
      " [0 0]\n",
      " [1 2]\n",
      " [1 0]\n",
      " [1 2]\n",
      " [1 2]\n",
      " [1 2]\n",
      " [0 1]\n",
      " [0 1]\n",
      " [1 0]\n",
      " [0 2]\n",
      " [1 2]\n",
      " [1 0]\n",
      " [0 1]\n",
      " [0 0]\n",
      " [1 0]\n",
      " [0 1]\n",
      " [1 2]\n",
      " [1 2]\n",
      " [1 2]\n",
      " [1 0]\n",
      " [1 2]\n",
      " [0 2]\n",
      " [0 0]\n",
      " [1 1]\n",
      " [1 2]\n",
      " [0 1]\n",
      " [1 0]\n",
      " [0 2]\n",
      " [1 0]\n",
      " [2 1]\n",
      " [1 2]\n",
      " [1 0]\n",
      " [1 0]\n",
      " [0 2]\n",
      " [2 2]\n",
      " [1 2]\n",
      " [2 2]\n",
      " [1 2]\n",
      " [0 0]\n",
      " [1 0]\n",
      " [1 0]\n",
      " [0 2]\n",
      " [1 2]\n",
      " [0 0]\n",
      " [0 2]\n",
      " [0 2]\n",
      " [1 2]\n",
      " [1 2]\n",
      " [1 2]\n",
      " [1 0]\n",
      " [0 2]\n",
      " [1 0]\n",
      " [1 2]\n",
      " [1 0]\n",
      " [0 1]\n",
      " [0 2]\n",
      " [1 2]\n",
      " [1 2]\n",
      " [0 0]\n",
      " [0 0]\n",
      " [1 0]\n",
      " [1 1]\n",
      " [0 0]\n",
      " [1 0]\n",
      " [1 0]\n",
      " [1 1]\n",
      " [0 1]\n",
      " [1 1]\n",
      " [1 2]\n",
      " [0 0]\n",
      " [0 2]\n",
      " [0 1]\n",
      " [1 2]\n",
      " [1 1]\n",
      " [1 2]\n",
      " [2 0]\n",
      " [1 2]\n",
      " [1 0]\n",
      " [1 2]\n",
      " [0 1]\n",
      " [1 1]\n",
      " [1 1]\n",
      " [1 2]\n",
      " [0 1]\n",
      " [1 2]\n",
      " [1 1]\n",
      " [1 0]\n",
      " [0 2]\n",
      " [1 2]\n",
      " [0 2]\n",
      " [1 1]\n",
      " [1 2]\n",
      " [1 1]\n",
      " [0 0]\n",
      " [0 1]\n",
      " [0 2]\n",
      " [0 2]\n",
      " [1 2]\n",
      " [1 0]\n",
      " [1 2]\n",
      " [1 2]\n",
      " [1 2]\n",
      " [0 1]\n",
      " [1 0]\n",
      " [1 1]\n",
      " [1 0]\n",
      " [1 1]\n",
      " [0 1]\n",
      " [0 1]\n",
      " [1 2]\n",
      " [1 2]\n",
      " [1 1]\n",
      " [0 2]\n",
      " [0 1]\n",
      " [0 0]\n",
      " [0 0]\n",
      " [1 0]\n",
      " [1 2]\n",
      " [1 1]\n",
      " [1 1]\n",
      " [1 2]\n",
      " [1 1]\n",
      " [1 1]\n",
      " [1 2]\n",
      " [0 0]\n",
      " [2 1]\n",
      " [1 1]\n",
      " [0 0]\n",
      " [1 2]\n",
      " [1 2]\n",
      " [1 2]\n",
      " [0 1]\n",
      " [1 1]\n",
      " [1 1]\n",
      " [0 2]\n",
      " [1 1]\n",
      " [1 1]\n",
      " [1 2]\n",
      " [1 1]\n",
      " [1 2]\n",
      " [0 0]\n",
      " [1 1]\n",
      " [0 2]\n",
      " [1 1]\n",
      " [0 2]\n",
      " [1 0]\n",
      " [1 2]\n",
      " [0 2]\n",
      " [0 1]\n",
      " [0 0]\n",
      " [1 2]\n",
      " [1 2]\n",
      " [1 2]\n",
      " [0 0]\n",
      " [0 0]\n",
      " [1 2]\n",
      " [0 0]\n",
      " [0 0]\n",
      " [1 2]\n",
      " [1 2]\n",
      " [1 1]\n",
      " [1 2]\n",
      " [1 0]\n",
      " [0 2]\n",
      " [1 2]\n",
      " [0 2]\n",
      " [1 2]\n",
      " [0 0]\n",
      " [1 0]\n",
      " [1 2]\n",
      " [1 1]\n",
      " [1 1]\n",
      " [0 0]\n",
      " [1 1]\n",
      " [1 1]\n",
      " [1 2]\n",
      " [1 1]\n",
      " [0 0]\n",
      " [1 2]\n",
      " [1 1]\n",
      " [1 0]\n",
      " [1 2]\n",
      " [1 2]\n",
      " [0 0]\n",
      " [0 0]\n",
      " [0 1]\n",
      " [0 1]\n",
      " [1 2]\n",
      " [1 1]\n",
      " [1 0]\n",
      " [2 0]\n",
      " [1 2]\n",
      " [1 0]\n",
      " [0 0]\n",
      " [1 0]\n",
      " [1 2]\n",
      " [0 2]\n",
      " [1 2]\n",
      " [1 0]\n",
      " [0 2]\n",
      " [0 0]\n",
      " [1 0]\n",
      " [1 0]\n",
      " [2 2]\n",
      " [0 0]\n",
      " [1 2]\n",
      " [1 0]\n",
      " [0 2]\n",
      " [0 0]\n",
      " [1 2]\n",
      " [1 2]\n",
      " [0 0]\n",
      " [1 1]\n",
      " [1 0]\n",
      " [1 0]\n",
      " [2 2]\n",
      " [1 1]\n",
      " [1 2]\n",
      " [1 1]\n",
      " [0 0]\n",
      " [0 0]\n",
      " [0 0]\n",
      " [0 0]\n",
      " [1 2]\n",
      " [1 1]\n",
      " [0 2]\n",
      " [1 2]\n",
      " [0 2]\n",
      " [0 1]\n",
      " [0 2]\n",
      " [1 2]\n",
      " [1 2]\n",
      " [1 2]\n",
      " [1 2]\n",
      " [0 0]\n",
      " [0 2]\n",
      " [1 2]\n",
      " [0 2]\n",
      " [2 2]\n",
      " [1 1]\n",
      " [1 2]\n",
      " [1 2]\n",
      " [1 2]\n",
      " [1 0]\n",
      " [1 2]\n",
      " [1 2]\n",
      " [0 0]\n",
      " [0 0]\n",
      " [1 0]\n",
      " [0 0]\n",
      " [0 2]\n",
      " [1 0]\n",
      " [1 1]\n",
      " [0 0]\n",
      " [0 2]\n",
      " [2 0]\n",
      " [2 2]\n",
      " [2 0]\n",
      " [1 2]\n",
      " [1 1]\n",
      " [2 1]\n",
      " [0 1]\n",
      " [1 2]\n",
      " [1 2]\n",
      " [1 1]\n",
      " [1 2]\n",
      " [0 2]\n",
      " [0 1]\n",
      " [1 1]\n",
      " [1 1]\n",
      " [0 2]\n",
      " [1 1]\n",
      " [0 2]\n",
      " [0 0]\n",
      " [1 2]\n",
      " [0 2]\n",
      " [1 0]\n",
      " [1 2]\n",
      " [1 2]\n",
      " [0 2]\n",
      " [1 2]\n",
      " [0 2]\n",
      " [1 2]\n",
      " [1 0]\n",
      " [0 2]\n",
      " [1 2]\n",
      " [1 1]\n",
      " [1 1]\n",
      " [0 2]\n",
      " [1 2]\n",
      " [1 2]\n",
      " [1 1]\n",
      " [1 0]\n",
      " [1 2]\n",
      " [1 1]\n",
      " [1 1]\n",
      " [1 2]\n",
      " [2 2]\n",
      " [2 1]\n",
      " [0 0]\n",
      " [1 1]\n",
      " [1 2]\n",
      " [1 2]\n",
      " [0 0]\n",
      " [0 1]\n",
      " [1 2]\n",
      " [1 2]\n",
      " [0 0]]\n",
      "[[ 44  44   4]\n",
      " [ 24  50   4]\n",
      " [ 43 100   7]]\n"
     ]
    },
    {
     "data": {
      "text/plain": [
       "0.315625"
      ]
     },
     "execution_count": 256,
     "metadata": {},
     "output_type": "execute_result"
    }
   ],
   "source": [
    "y_pred = classifier.predict(X_test)\n",
    "print(np.concatenate((y_pred.reshape(len(y_pred),1), y_test.reshape(len(y_test),1)),1))\n",
    "\n",
    "# Making the Confusion Matrix\n",
    "from sklearn.metrics import confusion_matrix, accuracy_score\n",
    "cm = confusion_matrix(y_test, y_pred)\n",
    "print(cm)\n",
    "accuracy_score(y_test, y_pred)"
   ]
  },
  {
   "cell_type": "code",
   "execution_count": 253,
   "metadata": {},
   "outputs": [],
   "source": [
    "y_pred = classifier.predict(X_test)"
   ]
  },
  {
   "cell_type": "code",
   "execution_count": 254,
   "metadata": {},
   "outputs": [
    {
     "name": "stdout",
     "output_type": "stream",
     "text": [
      "[[ 40   4  48]\n",
      " [ 22   6  50]\n",
      " [ 27  11 112]]\n"
     ]
    },
    {
     "data": {
      "text/plain": [
       "0.49375"
      ]
     },
     "execution_count": 254,
     "metadata": {},
     "output_type": "execute_result"
    }
   ],
   "source": [
    "from sklearn.metrics import confusion_matrix, accuracy_score\n",
    "cm = confusion_matrix(y_test, y_pred)\n",
    "print(cm)\n",
    "accuracy_score(y_test, y_pred)"
   ]
  },
  {
   "cell_type": "code",
   "execution_count": null,
   "metadata": {},
   "outputs": [],
   "source": []
  }
 ],
 "metadata": {
  "kernelspec": {
   "display_name": "Python 3",
   "language": "python",
   "name": "python3"
  },
  "language_info": {
   "codemirror_mode": {
    "name": "ipython",
    "version": 3
   },
   "file_extension": ".py",
   "mimetype": "text/x-python",
   "name": "python",
   "nbconvert_exporter": "python",
   "pygments_lexer": "ipython3",
   "version": "3.8.3"
  }
 },
 "nbformat": 4,
 "nbformat_minor": 4
}
